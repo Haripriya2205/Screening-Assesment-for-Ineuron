{
 "cells": [
  {
   "cell_type": "code",
   "execution_count": 4,
   "id": "2f11fb49",
   "metadata": {},
   "outputs": [],
   "source": [
    "import stringreplace"
   ]
  },
  {
   "cell_type": "code",
   "execution_count": 5,
   "id": "2ff7df71",
   "metadata": {},
   "outputs": [],
   "source": [
    "file=\"example.txt\"\n",
    "original=\"placement\"\n",
    "replace=\"screening\""
   ]
  },
  {
   "cell_type": "code",
   "execution_count": 6,
   "id": "23c6e021",
   "metadata": {},
   "outputs": [
    {
     "name": "stdout",
     "output_type": "stream",
     "text": [
      "Old content: This is a placement assignment\n",
      "New content: This is a screening assignment\n"
     ]
    }
   ],
   "source": [
    "stringreplace.ReplaceString(file,original,replace)"
   ]
  },
  {
   "cell_type": "code",
   "execution_count": null,
   "id": "5b2c46ba",
   "metadata": {},
   "outputs": [],
   "source": []
  }
 ],
 "metadata": {
  "kernelspec": {
   "display_name": "Python 3.10.0 64-bit",
   "language": "python",
   "name": "python3"
  },
  "language_info": {
   "codemirror_mode": {
    "name": "ipython",
    "version": 3
   },
   "file_extension": ".py",
   "mimetype": "text/x-python",
   "name": "python",
   "nbconvert_exporter": "python",
   "pygments_lexer": "ipython3",
   "version": "3.10.0"
  },
  "vscode": {
   "interpreter": {
    "hash": "0b2e131ca3c2c93b073155e7a67f73d41828b8d22eba4be0629d60437dfbe001"
   }
  }
 },
 "nbformat": 4,
 "nbformat_minor": 5
}
