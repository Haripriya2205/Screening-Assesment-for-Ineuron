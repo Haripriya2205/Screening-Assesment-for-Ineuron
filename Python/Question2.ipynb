{
 "cells": [
  {
   "cell_type": "markdown",
   "metadata": {},
   "source": [
    "2 )  Demonstrate use of abstract class, multiple inheritance and decorator in\n",
    "python using examples."
   ]
  },
  {
   "cell_type": "markdown",
   "metadata": {},
   "source": [
    "###Abstract class:\n",
    "\n",
    "        It is a class that contains at least one abstract method. An abstract method is a method that is declared, but not implemented in the code.\n",
    "\n",
    "\n",
    "        An abstract class can be considered as a blueprint for other classes. It allows you to create a set of methods that must be created within any child classes built from the abstract class. A class which contains one or more abstract methods is called an abstract class."
   ]
  },
  {
   "cell_type": "markdown",
   "metadata": {},
   "source": [
    "Abstract class Example:"
   ]
  },
  {
   "cell_type": "code",
   "execution_count": 16,
   "metadata": {},
   "outputs": [
    {
     "name": "stdout",
     "output_type": "stream",
     "text": [
      "You are in Ineuron course\n",
      "You are a student of Ineuron\n",
      "You are a student of Nov Batch\n"
     ]
    }
   ],
   "source": [
    "from abc import ABC, abstractmethod\n",
    "\n",
    "class Ineuron(ABC):\n",
    "    \n",
    "    @abstractmethod\n",
    "    def details(self):\n",
    "        pass\n",
    "\n",
    "class Course(Ineuron):\n",
    "\n",
    "    def details(self):\n",
    "        print(\"You are in Ineuron course\")\n",
    "\n",
    "class Student(Ineuron):\n",
    "    \n",
    "    def details(self):\n",
    "        print(\"You are a student of Ineuron\")\n",
    "\n",
    "class Batch(Ineuron):\n",
    "\n",
    "    def details(self):\n",
    "        print(\"You are a student of Nov Batch\")\n",
    "\n",
    "\n",
    "\n",
    "Course = Course()\n",
    "Course.details()\n",
    "\n",
    "Stud = Student()\n",
    "Stud.details()\n",
    "\n",
    "batch = Batch()\n",
    "batch.details()\n",
    "\n"
   ]
  },
  {
   "cell_type": "markdown",
   "metadata": {},
   "source": [
    "###Multiple Inheritance : \n",
    "\n",
    "        Multiple inheritance is a feature of some object-oriented computer programming languages in which an object or class can inherit characteristics and features from more than one parent object or the parent class ."
   ]
  },
  {
   "cell_type": "markdown",
   "metadata": {},
   "source": [
    "Multiple Inheritence Example:"
   ]
  },
  {
   "cell_type": "code",
   "execution_count": 9,
   "metadata": {},
   "outputs": [
    {
     "name": "stdout",
     "output_type": "stream",
     "text": [
      "You can get all courses on subscription\n",
      "You are a trainer of Ineuron\n",
      "You are a student of Nov Batch\n",
      "You are in Ineuron course\n",
      "You are a student of Ineuron\n"
     ]
    }
   ],
   "source": [
    "class Course():\n",
    "\n",
    "    def course_details(self):\n",
    "        print(\"You are in Ineuron course\")\n",
    "\n",
    "class Student():\n",
    "    \n",
    "    def student_details(self):\n",
    "        print(\"You are a student of Ineuron\")\n",
    "\n",
    "class Batch():\n",
    "\n",
    "    def batch_details(self):\n",
    "        print(\"You are a student of Nov Batch\")\n",
    "\n",
    "class Trainer():\n",
    "\n",
    "    def trainer_details(self):\n",
    "        print(\"You are a trainer of Ineuron\")\n",
    "\n",
    "class Ineuron(Course,Student,Batch,Trainer):\n",
    "\n",
    "    def details(self):\n",
    "        print(\"You can get all courses on subscription\")\n",
    "\n",
    "\n",
    "Obj = Ineuron()\n",
    "Obj.details()\n",
    "Obj.trainer_details()\n",
    "Obj.batch_details()\n",
    "Obj.course_details()\n",
    "Obj.student_details()"
   ]
  },
  {
   "cell_type": "markdown",
   "metadata": {},
   "source": [
    "###DECORATOR\n",
    "\n",
    "        Decorators are a very powerful and useful tool in Python since it allows programmers to modify the behaviour of a function or class.\n",
    "        \n",
    "        Decorators allow us to wrap another function in order to extend the behaviour of the wrapped function, without permanently modifying it."
   ]
  },
  {
   "cell_type": "markdown",
   "metadata": {},
   "source": [
    "Below I have mentioned 2 small example to understand Decorator where wrap function is extending the behaviour of wrapped function (function with decorator)"
   ]
  },
  {
   "cell_type": "markdown",
   "metadata": {},
   "source": [
    "Decorator Examples"
   ]
  },
  {
   "cell_type": "code",
   "execution_count": 8,
   "metadata": {},
   "outputs": [],
   "source": [
    "#Decorator Example 1:\n",
    "def DivisionError(func):\n",
    "    def div(a, b):          # Wrapping functio\n",
    "        if b == 0:\n",
    "            print(\"Sorry, Division by 0 is not possible\")\n",
    "            return\n",
    "\n",
    "        return func(a, b)\n",
    "    return div\n",
    "\n",
    "\n",
    "@DivisionError\n",
    "def divide(a, b):\n",
    "    print(\"Division is\", a/b)"
   ]
  },
  {
   "cell_type": "code",
   "execution_count": 10,
   "metadata": {},
   "outputs": [
    {
     "name": "stdout",
     "output_type": "stream",
     "text": [
      "Sorry, Division by 0 is not possible\n"
     ]
    }
   ],
   "source": [
    "divide(5,0)"
   ]
  },
  {
   "cell_type": "code",
   "execution_count": 55,
   "metadata": {},
   "outputs": [],
   "source": [
    "#Decorator Example 2:\n",
    "def script(func):\n",
    "    def course (*args, **kwargs):       # Wrapping Functiong\n",
    "        print(\"Welcome to INEURON\")\n",
    "        func(*args, *kwargs)\n",
    "        print(\"Thank you for choosing INEURON\")\n",
    "    return course\n",
    "\n",
    "@script\n",
    "def FSDS():\n",
    "    print(\"You have successfully subscribed for FSDS course\")\n",
    "\n",
    "\n",
    "#@script           \n",
    "def ML():\n",
    "    print(\"You have successfully subscribed for Machine Learning course\")\n",
    "\n",
    "\n"
   ]
  },
  {
   "cell_type": "code",
   "execution_count": 56,
   "metadata": {},
   "outputs": [
    {
     "name": "stdout",
     "output_type": "stream",
     "text": [
      "Welcome to INEURON\n",
      "You have successfully subscribed for FSDS course\n",
      "Thank you for choosing INEURON\n"
     ]
    }
   ],
   "source": [
    "FSDS()"
   ]
  },
  {
   "cell_type": "code",
   "execution_count": 57,
   "metadata": {},
   "outputs": [
    {
     "name": "stdout",
     "output_type": "stream",
     "text": [
      "Welcome to INEURON\n",
      "You have successfully subscribed for Machine Learning course\n",
      "Thank you for choosing INEURON\n"
     ]
    }
   ],
   "source": [
    "full_script = script(ML)    # Another Method for decorating\n",
    "full_script()"
   ]
  },
  {
   "cell_type": "code",
   "execution_count": null,
   "metadata": {},
   "outputs": [],
   "source": []
  }
 ],
 "metadata": {
  "kernelspec": {
   "display_name": "Python 3.10.0 64-bit",
   "language": "python",
   "name": "python3"
  },
  "language_info": {
   "codemirror_mode": {
    "name": "ipython",
    "version": 3
   },
   "file_extension": ".py",
   "mimetype": "text/x-python",
   "name": "python",
   "nbconvert_exporter": "python",
   "pygments_lexer": "ipython3",
   "version": "3.10.0"
  },
  "orig_nbformat": 4,
  "vscode": {
   "interpreter": {
    "hash": "0b2e131ca3c2c93b073155e7a67f73d41828b8d22eba4be0629d60437dfbe001"
   }
  }
 },
 "nbformat": 4,
 "nbformat_minor": 2
}
